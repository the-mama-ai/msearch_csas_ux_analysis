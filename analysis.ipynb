{
 "cells": [
  {
   "cell_type": "code",
   "execution_count": 71,
   "metadata": {
    "collapsed": true,
    "ExecuteTime": {
     "start_time": "2023-04-18T17:17:18.054956Z",
     "end_time": "2023-04-18T17:17:18.209530Z"
    }
   },
   "outputs": [],
   "source": [
    "import dataclasses\n",
    "import datetime\n",
    "\n",
    "import numpy as np\n",
    "\n",
    "from csas_csv_parser import *\n",
    "from matplotlib import pyplot as plt\n",
    "import pandas as pd\n"
   ]
  },
  {
   "cell_type": "markdown",
   "metadata": {},
   "source": [
    "## Parse the events from csas_logs.csv ."
   ]
  },
  {
   "cell_type": "code",
   "execution_count": 72,
   "outputs": [],
   "source": [
    "# csv_file_path = 'ui_logs_2023-03-20 16_29_49.774183.csv'\n",
    "# csv_file_path = 'ui_logs_2023-04-06 13_50_36.138784.csv'\n",
    "csv_file_path = 'ui_logs_2023-04-17 07_43_59.160150.csv'\n",
    "graphs_folder = 'graphs 2023-04-17'\n",
    "events = filter_events_by_time(\n",
    "    events=parse_all_events_from_csv(csv_file_path),\n",
    "    date_from=date(2023, 3, 6)\n",
    ")"
   ],
   "metadata": {
    "collapsed": false,
    "ExecuteTime": {
     "start_time": "2023-04-18T17:17:18.071454Z",
     "end_time": "2023-04-18T17:17:18.355493Z"
    }
   }
  },
  {
   "cell_type": "markdown",
   "source": [
    "### Handle toggling"
   ],
   "metadata": {
    "collapsed": false
   }
  },
  {
   "cell_type": "code",
   "execution_count": 73,
   "outputs": [],
   "source": [
    "# Time locality of session can be in current setup handled by checking 'client_id' which is limited to 1 hour, so no time window has to be used for session/query sentiment.\n",
    "\n",
    "@dataclasses.dataclass\n",
    "class Client:\n",
    "    id: uuid.UUID\n",
    "    liked_incident_result: dict[str, list[list[int, Event]]] = dataclasses.field(default_factory=dict)\n",
    "    disliked_incident_result: dict[str, list[list[int, Event]]] = dataclasses.field(default_factory=dict)\n",
    "\n",
    "\n",
    "clients: dict[uuid.UUID, Client] = {}\n",
    "for index, event in enumerate(events):\n",
    "    client: Client = clients.get(event.client_id, Client(event.client_id))\n",
    "\n",
    "    if event.event_type == EventType.LIKE:\n",
    "        if event.similar_ticket_id not in client.liked_incident_result:\n",
    "            client.liked_incident_result[event.similar_ticket_id] = []\n",
    "        client.liked_incident_result[event.similar_ticket_id].append([index, event])\n",
    "\n",
    "    if event.event_type == EventType.DISLIKE:\n",
    "        if event.similar_ticket_id not in client.disliked_incident_result:\n",
    "            client.disliked_incident_result[event.similar_ticket_id] = []\n",
    "        client.disliked_incident_result[event.similar_ticket_id].append(([index, event]))\n",
    "\n",
    "    clients[event.client_id] = client\n",
    "\n",
    "\n",
    "def did_toggle(toggled_events: list[Event]) -> bool:\n",
    "    if len(toggled_events) == 0:\n",
    "        return False\n",
    "    return len(toggled_events) % 2 == 0\n",
    "\n",
    "\n",
    "event_indices_to_remove: list[int] = []\n",
    "\n",
    "for client in clients.values():\n",
    "\n",
    "    for result_id, possibly_toggled_events in client.liked_incident_result.items():\n",
    "        if did_toggle(possibly_toggled_events):\n",
    "            print(f\"{client.id} : {result_id}  toggled {len(possibly_toggled_events)} likes\")\n",
    "            for index, event in possibly_toggled_events:\n",
    "                event_indices_to_remove.append(index)\n",
    "\n",
    "    for possibly_toggled_events in client.disliked_incident_result.values():\n",
    "        if did_toggle(possibly_toggled_events):\n",
    "            print(f\"{client.id} : {result_id}  toggled {len(possibly_toggled_events)} dislikes.\")\n",
    "            for index, event in possibly_toggled_events:\n",
    "                event_indices_to_remove.append(index)\n",
    "\n",
    "untoggled_events = []\n",
    "for index, event in enumerate(events):\n",
    "    if index in event_indices_to_remove:\n",
    "        continue\n",
    "    untoggled_events.append(event)\n"
   ],
   "metadata": {
    "collapsed": false,
    "ExecuteTime": {
     "start_time": "2023-04-18T17:17:18.081190Z",
     "end_time": "2023-04-18T17:17:18.367080Z"
    }
   }
  },
  {
   "cell_type": "code",
   "execution_count": 74,
   "outputs": [],
   "source": [
    "# events = untoggled_events\n",
    "df: pd.DataFrame = pd.DataFrame.from_records([event.to_dict() for event in events])"
   ],
   "metadata": {
    "collapsed": false,
    "ExecuteTime": {
     "start_time": "2023-04-18T17:17:18.081260Z",
     "end_time": "2023-04-18T17:17:18.385043Z"
    }
   }
  },
  {
   "cell_type": "markdown",
   "source": [
    "## Normalized queries sentiment during time."
   ],
   "metadata": {
    "collapsed": false
   }
  },
  {
   "cell_type": "code",
   "execution_count": 75,
   "outputs": [],
   "source": [
    "grouped_source_and_user = df.groupby(['source_ticket_id', 'client_id'])\n",
    "\n",
    "#TODO: rename event_group to session\n",
    "event_groups_sentiment: dict[str, np.ndarray] = {}\n",
    "for source_and_user, indices in grouped_source_and_user.indices.items():\n",
    "    contains_sentiment: bool = False\n",
    "    for index in indices:\n",
    "        event: Event = events[index]\n",
    "        if event.event_type in [EventType.LIKE, EventType.DISLIKE]:\n",
    "            contains_sentiment = True\n",
    "            break\n",
    "    if contains_sentiment:\n",
    "        event_groups_sentiment[source_and_user] = indices\n",
    "\n",
    "event_groups_view_similar: dict[str, np.ndarray] = {}\n",
    "for source_and_user, indices in grouped_source_and_user.indices.items():\n",
    "    contains_view_similar: bool = False\n",
    "    for index in indices:\n",
    "        event: Event = events[index]\n",
    "        if event.event_type in [EventType.LIKE, EventType.DISLIKE]:\n",
    "            contains_view_similar = False\n",
    "            break\n",
    "        if event.event_type == EventType.VIEW_SIMILAR_INCIDENT:\n",
    "            contains_view_similar = True\n",
    "    if contains_view_similar:\n",
    "        event_groups_view_similar[source_and_user] = indices\n",
    "\n",
    "\n",
    "@dataclasses.dataclass\n",
    "class Session:\n",
    "    timestamp_start: datetime = None\n",
    "    sentiment: float = 0\n",
    "    events: list[Event] = dataclasses.field(default_factory=list)\n",
    "    only_view: bool = True\n",
    "\n",
    "\n",
    "# non-discounted normalized sentiment: <-1, 1>, -1 strong dislike, +1 strong like\n",
    "LIKE_WEIGHT = 1\n",
    "DISLIKE_WEIGHT = 0.67\n",
    "SIMILAR_VIEW_WEIGHT = 10e-4\n",
    "\n",
    "# TODO: rename to sentiment_sessions\n",
    "all_relevant_event_groups = event_groups_sentiment | event_groups_view_similar\n",
    "sessions: dict[str, Session] = {name: Session() for name in all_relevant_event_groups.keys()}\n",
    "for source_and_user, indices in all_relevant_event_groups.items():\n",
    "    likes: float = 0\n",
    "    dislikes: float = 0\n",
    "    views: float = 0\n",
    "\n",
    "    liked_ids: set[str] = set()\n",
    "    disliked_ids: set[str] = set()\n",
    "    similar_view_ids: set[str] = set()\n",
    "    for index in indices:\n",
    "        event: Event = events[index]\n",
    "        match event.event_type:\n",
    "            case EventType.LIKE:\n",
    "                sessions[source_and_user].only_view = False\n",
    "                if event.similar_ticket_id not in liked_ids:\n",
    "                    likes += LIKE_WEIGHT\n",
    "                    liked_ids.add(event.similar_ticket_id)\n",
    "            case EventType.DISLIKE:\n",
    "                sessions[source_and_user].only_view = False\n",
    "                if event.similar_ticket_id not in disliked_ids:\n",
    "                    dislikes += DISLIKE_WEIGHT\n",
    "                    disliked_ids.add(event.similar_ticket_id)\n",
    "            case EventType.VIEW_SIMILAR_INCIDENT:\n",
    "                if event.similar_ticket_id not in similar_view_ids:\n",
    "                    views += SIMILAR_VIEW_WEIGHT\n",
    "                    similar_view_ids.add(event.similar_ticket_id)\n",
    "    dislike_sum = dislikes\n",
    "    if likes > 0 and dislikes > 0:\n",
    "        dislikes = 0\n",
    "    sessions[source_and_user].sentiment = float((likes + views - dislikes) / (likes + views + dislike_sum))\n",
    "\n",
    "    sessions[source_and_user].events += [events[index] for index in indices]\n",
    "    sessions[source_and_user].timestamp_start = events[indices[0]].timestamp\n",
    "\n",
    "# Sort by timestamp\n",
    "sessions_sorted_by_time = sorted(sessions.items(), key=lambda item: item[1].timestamp_start)\n",
    "\n",
    "f, ax = plt.subplots(figsize=(16, 4))\n",
    "colors: list[str] = []\n",
    "for name, path in sessions_sorted_by_time:\n",
    "    if path.only_view:\n",
    "        colors.append('lightblue')  # mediumspringblue, cornflowerblue\n",
    "    elif path.sentiment >= 0:\n",
    "        colors.append('green')\n",
    "    elif path.sentiment < 0:\n",
    "        colors.append('grey')\n",
    "\n",
    "plt.bar(\n",
    "    range(len(sessions_sorted_by_time)),\n",
    "    [path[1].sentiment for path in sessions_sorted_by_time],\n",
    "    color=colors\n",
    ")\n",
    "\n",
    "plt.title('session sentiment', size=18)\n",
    "plt.xlabel('session sentiment (can contain multiple events)')\n",
    "plt.xticks([0, len(sessions_sorted_by_time)],\n",
    "           [sessions_sorted_by_time[0][1].timestamp_start, sessions_sorted_by_time[-1][1].timestamp_start])\n",
    "plt.ylabel('normalized sentiment')\n",
    "plt.text(-20, 1.45, f'likes', color='green')\n",
    "plt.text(-20, 1.3, f'view similar incident', color='lightblue')  #mediumseagreen\n",
    "plt.text(-20, 1.15, f'dislikes', color='gray')\n",
    "\n",
    "plt.text(340, 1.2, f\"sentiment = average(likes + views - dislikes)\\n\"\n",
    "                   f\"Váhy: Like={LIKE_WEIGHT:0.1f}, Dislike={DISLIKE_WEIGHT:0.1f}, View similar incident=10e-3\\n\"\n",
    "                   f\"Pokud dán like, je sentiment brán jako pozitivní.\",\n",
    "         size=9, bbox=dict(boxstyle='round', facecolor='wheat', alpha=0.5))\n",
    "\n",
    "plt.savefig(f\"{graphs_folder}/session_sentiment.png\", bbox_inches='tight')"
   ],
   "metadata": {
    "collapsed": false,
    "ExecuteTime": {
     "start_time": "2023-04-18T15:28:45.881280Z",
     "end_time": "2023-04-18T15:28:45.944362Z"
    }
   }
  },
  {
   "cell_type": "markdown",
   "source": [],
   "metadata": {
    "collapsed": false,
    "ExecuteTime": {
     "start_time": "2023-04-18T15:28:45.924984Z",
     "end_time": "2023-04-18T15:28:46.645015Z"
    }
   },
   "outputs": [],
   "execution_count": null
  },
  {
   "cell_type": "markdown",
   "source": [
    "## Discounted (more interpretable) sentiment expressed by one user during one query session"
   ],
   "metadata": {
    "collapsed": false
   }
  },
  {
   "cell_type": "code",
   "execution_count": null,
   "outputs": [],
   "source": [
    "views_count = len([1 for path in sessions.values() if path.only_view])\n",
    "likes_count = len([1 for path in sessions.values() if not path.only_view and path.sentiment > 0])\n",
    "dislike_count = len([1 for path in sessions.values() if not path.only_view and path.sentiment < 0])\n",
    "\n",
    "DISLIKE_MULTIPLE_CLICKS_BUG_CORRECTION = 4 + 1\n",
    "dislike_count -= DISLIKE_MULTIPLE_CLICKS_BUG_CORRECTION\n",
    "\n",
    "session_without_sentiment_count = len([event for event in events\n",
    "                                       if event.event_type not in [EventType.LIKE, EventType.DISLIKE,\n",
    "                                                                   EventType.VIEW_SIMILAR_INCIDENT]])\n",
    "session_without_sentiment_count = 10\n",
    "f, ax = plt.subplots(figsize=(12, 12))\n",
    "import math\n",
    "\n",
    "undecided_count = math.ceil(dislike_count - dislike_count * 0.675)\n",
    "dislike_count = int(dislike_count * 0.675)\n",
    "plt.bar(\n",
    "    ['only view similar incident\\n(\"implicit likes\")', 'sentiment session positive', 'sentiment session negative', ],\n",
    "    # 'not relevant'],\n",
    "    [views_count, likes_count, dislike_count],  #, undecided_count],\n",
    "    color=['lightblue', 'green', 'grey']  # , 'peru'\n",
    ")\n",
    "plt.rcParams.update({'font.size': 14})\n",
    "\n",
    "plt.text(0, views_count / 2, f\"{views_count}\", size=18, weight='bold', style='oblique', color='white')\n",
    "plt.text(1, likes_count / 2, f\"{likes_count}\", size=18, weight='bold', style='oblique', color='white')\n",
    "plt.text(2, dislike_count / 2, f\"{dislike_count}\", size=18, weight='bold', style='oblique', color='white')\n",
    "# plt.text(3, undecided_count / 2, f\"{undecided_count}\", size=18, weight='bold', style='oblique', color='white')\n",
    "plt.text(0.8, views_count - 20, f\"sentiment=avg(likes - dislikes) | \"\n",
    "                                f\"váhy: like={LIKE_WEIGHT:.2f}, dislike={DISLIKE_WEIGHT:.2f}\\n\\n\"\n",
    "                                f\"Pokud dán like, je sentiment brán jako pozitivní.\\n\\n\"\n",
    "                                f\"Dle manuální analýzy dat, je jen {DISLIKE_WEIGHT * 100:0.0f}% disliků relevantních.\",\n",
    "         size=12, bbox=dict(boxstyle='round', facecolor='wheat', alpha=0.5))\n",
    "plt.title('session sentiments counts')\n",
    "\n"
   ],
   "metadata": {
    "collapsed": false,
    "ExecuteTime": {
     "start_time": "2023-04-17T16:22:09.515279Z",
     "end_time": "2023-04-17T16:22:09.727010Z"
    }
   }
  },
  {
   "cell_type": "code",
   "execution_count": null,
   "outputs": [],
   "source": [
    "views_count = len([1 for path in sessions.values() if path.only_view])\n",
    "likes_count = len([1 for path in sessions.values() if not path.only_view and path.sentiment > 0])\n",
    "dislike_count = len([1 for path in sessions.values() if not path.only_view and path.sentiment < 0])\n",
    "\n",
    "DISLIKE_MULTIPLE_CLICKS_BUG_CORRECTION = 4 + 1\n",
    "dislike_count -= DISLIKE_MULTIPLE_CLICKS_BUG_CORRECTION\n",
    "\n",
    "session_without_sentiment_count = len([event for event in events\n",
    "                                       if event.event_type not in [EventType.LIKE, EventType.DISLIKE,\n",
    "                                                                   EventType.VIEW_SIMILAR_INCIDENT]])\n",
    "session_without_sentiment_count = 10\n",
    "f, ax = plt.subplots(figsize=(12, 12))\n",
    "import math\n",
    "\n",
    "undecided_count = math.ceil(dislike_count - dislike_count * DISLIKE_WEIGHT)\n",
    "dislike_count = int(dislike_count * DISLIKE_WEIGHT)\n",
    "plt.bar(\n",
    "    ['\"implicit likes\"\\nonly view similar incident', 'session sentiment\\n positive', 'session sentiment\\n negative',\n",
    "     'not relevant'],\n",
    "    [views_count, likes_count, dislike_count, undecided_count],\n",
    "    color=['lightblue', 'green', 'grey', 'peru']  #\n",
    ")\n",
    "plt.rcParams.update({'font.size': 14})\n",
    "\n",
    "plt.text(0, views_count / 2, f\"{views_count}\", size=18, weight='bold', style='oblique', color='white')\n",
    "plt.text(1, likes_count / 2, f\"{likes_count}\", size=18, weight='bold', style='oblique', color='white')\n",
    "plt.text(2, dislike_count / 2, f\"{dislike_count}\", size=18, weight='bold', style='oblique', color='white')\n",
    "plt.text(3, undecided_count / 2, f\"{undecided_count}\", size=18, weight='bold', style='oblique', color='white')\n",
    "plt.text(0.80, views_count - 22, f\"sentiment=avg(likes - dislikes)  | \"\n",
    "                                 f\"váhy: like={LIKE_WEIGHT:.2f}, dislike={DISLIKE_WEIGHT:.2f}\\n\\n\"\n",
    "                                 f\"Pokud dán like, je sentiment brán jako pozitivní.\\n\\n\"\n",
    "                                 f\"Dle manuální analýzy dat, je jen {DISLIKE_WEIGHT * 100:0.0f}% disliků relevantních.\",\n",
    "         size=14, bbox=dict(boxstyle='round', facecolor='wheat', alpha=0.5))\n",
    "\n",
    "plt.title('session sentiments counts')\n",
    "plt.savefig(f\"{graphs_folder}/session_sentiment_counts.png\", bbox_inches='tight')"
   ],
   "metadata": {
    "collapsed": false,
    "ExecuteTime": {
     "start_time": "2023-04-18T15:28:46.660166Z",
     "end_time": "2023-04-18T15:28:46.839292Z"
    }
   }
  },
  {
   "cell_type": "markdown",
   "source": [
    "## Sentiment by assignment groups"
   ],
   "metadata": {
    "collapsed": false,
    "ExecuteTime": {
     "start_time": "2023-04-18T15:28:46.864191Z",
     "end_time": "2023-04-18T15:28:47.115052Z"
    }
   },
   "outputs": [],
   "execution_count": null
  },
  {
   "cell_type": "code",
   "execution_count": null,
   "outputs": [],
   "source": [
    "@dataclasses.dataclass\n",
    "class Sentiment:\n",
    "    likes: int\n",
    "    dislikes: int\n",
    "    view_similar_incident: int\n",
    "\n",
    "\n",
    "unique_assignment_groups = df['assignment_group'].unique()\n",
    "unique_assignment_groups = unique_assignment_groups[1:]\n",
    "\n",
    "# double check correctness of retrieved groups\n",
    "x: set[str] = get_unique_assignment_groups(csv_file_path)\n",
    "print(x.difference(set(unique_assignment_groups)))\n",
    "\n",
    "sentiment_assignment_groups: dict[str, Sentiment] = {assignment_group: Sentiment(0, 0, 0)\n",
    "                                                     for assignment_group in unique_assignment_groups}\n",
    "path: Session\n",
    "for path in sessions.values():\n",
    "    ag = path.events[0].assignment_group\n",
    "    if ag == '':\n",
    "        continue\n",
    "    if path.only_view:\n",
    "        sentiment_assignment_groups[ag].view_similar_incident += 1\n",
    "    elif path.sentiment >= 0:\n",
    "        sentiment_assignment_groups[ag].likes += 1\n",
    "    elif path.sentiment < 0:\n",
    "        sentiment_assignment_groups[ag].dislikes += 1\n",
    "    else:\n",
    "        print(\"ERR\")\n",
    "#\n",
    "# sentiment_assignment_groups_sorted_by_likes = sorted(sentiment_assignment_groups.items(),\n",
    "#                                                      key=lambda x: x[1].likes, reverse=True)\n",
    "# sorted_indices = [i[0] for i in\n",
    "#                   sorted(enumerate(sentiment_assignment_groups.items()), key=lambda x: x[1], reverse=True)]\n",
    "\n",
    "# TODO sort by the most active\n",
    "# create lists to hold the likes and dislikes values for each assignment group\n",
    "# likes_values = [group[1].likes for group in sentiment_assignment_groups_sorted_by_likes]\n",
    "# dislikes_values = [- group[1].dislikes for group in sentiment_assignment_groups_sorted_by_likes]\n",
    "# view_similar_incident_values = [group[1].view_similar_incident for group in sentiment_assignment_groups_sorted_by_likes]\n",
    "total_sentiment = [sentiment_assignment_groups[group_name].likes +\n",
    "                   sentiment_assignment_groups[group_name].dislikes +\n",
    "                   sentiment_assignment_groups[group_name].view_similar_incident\n",
    "                   for group_name in unique_assignment_groups]\n",
    "sorted_indices = [i[0] for i in sorted(enumerate(total_sentiment), key=lambda x: x[1], reverse=True)]\n",
    "unique_assignment_groups = [unique_assignment_groups[i] for i in sorted_indices]\n",
    "\n",
    "likes_values = [sentiment_assignment_groups[group_name].likes for group_name in unique_assignment_groups]\n",
    "dislikes_values = [-1 * sentiment_assignment_groups[group_name].dislikes for group_name in unique_assignment_groups]\n",
    "view_similar_incident_values = [sentiment_assignment_groups[group_name].view_similar_incident for group_name in\n",
    "                                unique_assignment_groups]\n",
    "\n",
    "# set up the bar plot\n",
    "f, ax = plt.subplots(figsize=(30, 8))\n",
    "index = range(len(sentiment_assignment_groups))\n",
    "\n",
    "# plot the likes and dislikes bars side-by-side for each assignment group\n",
    "rects1 = ax.bar(index, likes_values, color='g', label='Likes')\n",
    "rects2 = ax.bar(index, dislikes_values, color='grey', alpha=0.4, label='Dislikes')\n",
    "rects3 = ax.bar(index, view_similar_incident_values, alpha=0.5, color='lightblue', label='View similar incident')\n",
    "\n",
    "# add labels and title to the plot\n",
    "ax.set_xlabel('Assignment Group')\n",
    "ax.set_ylabel('Number of Events')\n",
    "ax.set_title('Session sentiment by Assignment Group')\n",
    "ax.set_xticks(index)\n",
    "# ax.set_xticklabels(unique_assignment_groups, rotation='35')\n",
    "# plt.xticks(ticks=list(range(len(unique_assignment_groups))),\n",
    "#            labels=[unique_assignment_groups[i] for i in sorted_indices], rotation=60, ha='right')\n",
    "plt.xticks(ticks=list(range(len(unique_assignment_groups))),\n",
    "           labels=unique_assignment_groups, rotation=60, ha='right')\n",
    "\n",
    "plt.text(29, 50, f\"sentiment=avg(likes - dislikes)  | \"\n",
    "                 f\"váhy: like={LIKE_WEIGHT:.2f}, dislike={DISLIKE_WEIGHT:.2f}\\n\\n\"\n",
    "                 f\"Pokud dán like, je sentiment brán jako pozitivní.\\n\\n\"\n",
    "                 f\"Dle manuální analýzy dat, je jen {DISLIKE_WEIGHT * 100:0.0f}% disliků relevantních.\",\n",
    "         size=16, bbox=dict(boxstyle='round', facecolor='wheat', alpha=0.5))\n",
    "ax.legend()\n",
    "# display the plot\n",
    "plt.savefig(f\"{graphs_folder}/session_sentiment_assignment_groups.png\", bbox_inches='tight')"
   ],
   "metadata": {
    "collapsed": false,
    "ExecuteTime": {
     "start_time": "2023-04-17T16:22:10.025688Z",
     "end_time": "2023-04-17T16:22:11.174707Z"
    }
   }
  },
  {
   "cell_type": "markdown",
   "source": [
    "# Last week trend statistics"
   ],
   "metadata": {
    "collapsed": false,
    "ExecuteTime": {
     "start_time": "2023-04-18T16:38:17.061868Z",
     "end_time": "2023-04-18T16:38:17.706607Z"
    }
   },
   "outputs": [],
   "execution_count": null
  },
  {
   "cell_type": "code",
   "execution_count": null,
   "outputs": [],
   "source": [
    "newer_sessions: dict[tuple[str], Session] = {}\n",
    "older_sessions: dict[tuple[str], Session] = {}\n",
    "\n",
    "session: Session\n",
    "key: tuple[str]\n",
    "for key, session in sessions_sorted_by_time:\n",
    "    if session.only_view:\n",
    "        continue\n",
    "\n",
    "    is_newer = True if session.timestamp_start.date() >= date(year=2023, month=4, day=10) else False\n",
    "    if is_newer:\n",
    "        newer_sessions[key] = session\n",
    "    else:\n",
    "        older_sessions[key] = session\n",
    "\n",
    "like_count_older = len([1 for session in older_sessions.values() if session.sentiment >= 0])\n",
    "like_percentage_older = like_count_older / len(older_sessions) * 100\n",
    "dislike_percentage_older = (len(older_sessions) - like_count_older) / len(older_sessions) * 100\n",
    "\n",
    "like_count_newer = len([1 for session in newer_sessions.values() if session.sentiment >= 0])\n",
    "like_percentage_newer = like_count_newer / len(newer_sessions) * 100\n",
    "dislike_percentage_newer = (len(newer_sessions) - like_count_newer) / len(newer_sessions) * 100\n"
   ],
   "metadata": {
    "collapsed": false,
    "ExecuteTime": {
     "start_time": "2023-04-17T16:22:11.174551Z",
     "end_time": "2023-04-17T16:22:11.174827Z"
    }
   }
  },
  {
   "cell_type": "code",
   "execution_count": null,
   "outputs": [],
   "source": [
    "import matplotlib.patheffects as pe\n",
    "\n",
    "fig, [ax1, ax2] = plt.subplots(nrows=1, ncols=2, figsize=(16, 8))\n",
    "\n",
    "ax1.bar(['LIKE', 'DISLIKE'], [like_percentage_older, dislike_percentage_older], color=['green', 'gray'])\n",
    "ax1.set_ylabel(\"percentage [%]\")\n",
    "ax1.text(0 - 0.1, like_percentage_older / 2, f\"{like_percentage_older:.2f}%\", fontweight='bold', color='white', size=16)\n",
    "ax1.text(1 - 0.1, dislike_percentage_older / 2, f\"{dislike_percentage_older:.2f}%\", fontweight='bold', color='white',\n",
    "         size=16)\n",
    "ax1.set_title(\"Před změnami (do 9.4.23)\")\n",
    "ax2.bar(['LIKE', 'DISLIKE'], [like_percentage_newer, dislike_percentage_newer], color=['green', 'gray'])\n",
    "ax2.text(0 - 0.1, like_percentage_newer / 2, f\"{like_percentage_newer:.2f}%\", fontweight='bold', color='white', size=16)\n",
    "ax2.text(1 - 0.1, dislike_percentage_newer / 2, f\"{dislike_percentage_newer:.2f}%\", fontweight='bold', color='white',\n",
    "         size=16)\n",
    "ax2.set_title(\"Po úpravě funkcionality (od 10.4.23)\")\n",
    "fig.suptitle(\"Poměr like/dislike vzhledem k úpravě funkcionality\", fontsize=18)\n",
    "\n",
    "plt.savefig(f\"{graphs_folder}/new_functionality_improvement.png\", bbox_inches='tight')"
   ],
   "metadata": {
    "collapsed": false,
    "ExecuteTime": {
     "start_time": "2023-04-18T15:28:48.320137Z",
     "end_time": "2023-04-18T15:28:48.325434Z"
    }
   }
  },
  {
   "cell_type": "markdown",
   "source": [],
   "metadata": {
    "collapsed": false,
    "ExecuteTime": {
     "start_time": "2023-04-18T15:28:48.320183Z",
     "end_time": "2023-04-18T15:28:48.708871Z"
    }
   },
   "outputs": [],
   "execution_count": null
  },
  {
   "cell_type": "markdown",
   "source": [
    "## (raw!) Event counts"
   ],
   "metadata": {
    "collapsed": false
   }
  },
  {
   "cell_type": "code",
   "execution_count": null,
   "metadata": {
    "ExecuteTime": {
     "start_time": "2023-04-17T16:22:11.573911Z",
     "end_time": "2023-04-17T16:22:11.869983Z"
    }
   },
   "outputs": [],
   "source": [
    "event_counts: dict[EventType, int] = get_event_type_counts(events)\n",
    "\n",
    "f, ax = plt.subplots(figsize=(20, 6))\n",
    "plt.bar(\n",
    "    x=range(len(event_counts)),\n",
    "    height=event_counts.values(),\n",
    "    tick_label=[event_type.value for event_type in event_counts.keys()]\n",
    ")\n",
    "plt.title('raw! event counts')\n",
    "plt.xlabel('Event')\n",
    "plt.ylabel('Count')\n",
    "\n",
    "plt.text(3.3, 1400, f\"Tyto počty reprezentují data nemožná interpretovat\\nbez současného technického kontextu logů.\",\n",
    "         size=15, bbox=dict(boxstyle='round', facecolor='wheat', alpha=0.5))\n",
    "# add the count above each bar\n",
    "for i, count in enumerate(event_counts.values()):\n",
    "    ax.text(i, count + 0.5, str(count), ha='center', va='bottom')\n",
    "\n",
    "plt.savefig(f\"{graphs_folder}/raw_event_counts.png\", bbox_inches='tight')"
   ]
  },
  {
   "cell_type": "markdown",
   "metadata": {
    "ExecuteTime": {
     "start_time": "2023-04-18T15:28:48.711563Z",
     "end_time": "2023-04-18T15:28:49.017535Z"
    }
   },
   "source": [
    "## (!raw) Counts by dislikes"
   ],
   "outputs": [],
   "execution_count": null
  },
  {
   "cell_type": "code",
   "execution_count": null,
   "metadata": {
    "ExecuteTime": {
     "start_time": "2023-04-17T16:22:11.885532Z",
     "end_time": "2023-04-17T16:22:12.173312Z"
    }
   },
   "outputs": [],
   "source": [
    "dislike_events: list[Event] = [event for event in events if event.event_type == EventType.DISLIKE]\n",
    "\n",
    "rank_count_dislikes: dict[int, int] = {i: 0 for i in range(5)}\n",
    "dislike_event: Event\n",
    "for dislike_event in dislike_events:\n",
    "    rank_count_dislikes[dislike_event.rank] += 1\n",
    "\n",
    "f, ax = plt.subplots(figsize=(20, 8))\n",
    "plt.bar(\n",
    "    x=range(len(rank_count_dislikes)),\n",
    "    height=rank_count_dislikes.values(),\n",
    "    tick_label=list(range(1, 6))\n",
    ")\n",
    "plt.title('Raw counts by rank - dislikes')\n",
    "plt.xlabel('rank (1 = the most confident result)')\n",
    "plt.ylabel('count')\n",
    "plt.text(3, 135, f\"Data relevantní jen vzhledem k pořadí=ranku.\\n\"\n",
    "                 f\"Počty reprezentují data nemožná interpretovat\\nbez současného technického kontextu logů.\",\n",
    "         size=14, bbox=dict(boxstyle='round', facecolor='wheat', alpha=0.5))\n",
    "# add the count above each bar\n",
    "for i, count in enumerate(rank_count_dislikes.values()):\n",
    "    ax.text(i, count + 0.1, str(count), size=12, ha='center', va='bottom')\n",
    "\n",
    "plt.savefig(f\"{graphs_folder}/raw_dislikes_by_rank.png\", bbox_inches='tight')"
   ]
  },
  {
   "cell_type": "markdown",
   "metadata": {
    "ExecuteTime": {
     "start_time": "2023-04-18T15:28:49.023716Z",
     "end_time": "2023-04-18T15:28:49.329772Z"
    }
   },
   "source": [
    "## (!raw) Counts by likes"
   ],
   "outputs": [],
   "execution_count": null
  },
  {
   "cell_type": "code",
   "execution_count": null,
   "metadata": {
    "ExecuteTime": {
     "start_time": "2023-04-17T16:22:12.194468Z",
     "end_time": "2023-04-17T16:22:12.493315Z"
    }
   },
   "outputs": [],
   "source": [
    "like_events: list[Event] = [event for event in events if event.event_type == EventType.LIKE]\n",
    "\n",
    "rank_count_likes: dict[int, int] = {i: 0 for i in range(5)}\n",
    "like_event: Event\n",
    "for like_event in like_events:\n",
    "    rank_count_likes[like_event.rank] += 1\n",
    "\n",
    "f, ax = plt.subplots(figsize=(20, 8))\n",
    "plt.bar(\n",
    "    range(len(rank_count_likes)),\n",
    "    rank_count_likes.values(),\n",
    "    tick_label=list(range(1, 6))\n",
    ")\n",
    "plt.title('Raw counts by rank - likes')\n",
    "plt.xlabel('rank (1 = the most confident result)')\n",
    "plt.ylabel('count')\n",
    "plt.text(3, 82, f\"Data relevantní jen vzhledem k pořadí=ranku.\\n\"\n",
    "                f\"Počty reprezentují data nemožná interpretovat\\nbez současného technického kontextu logů.\",\n",
    "         size=14, bbox=dict(boxstyle='round', facecolor='wheat', alpha=0.5))\n",
    "# add the count above each bar\n",
    "for i, count in enumerate(rank_count_likes.values()):\n",
    "    ax.text(i, count + 0.1, str(count), size=12, ha='center', va='bottom')\n",
    "\n",
    "plt.savefig(f\"{graphs_folder}/raw_likes_by_rank.png\", bbox_inches='tight')"
   ]
  },
  {
   "cell_type": "markdown",
   "metadata": {
    "ExecuteTime": {
     "start_time": "2023-04-18T15:28:49.337765Z",
     "end_time": "2023-04-18T15:28:49.635194Z"
    }
   },
   "source": [
    "# User uniqueness statistics"
   ],
   "outputs": [],
   "execution_count": null
  },
  {
   "cell_type": "code",
   "execution_count": null,
   "metadata": {
    "ExecuteTime": {
     "start_time": "2023-04-17T16:22:12.505252Z",
     "end_time": "2023-04-17T16:22:12.508449Z"
    }
   },
   "outputs": [],
   "source": [
    "df: pd.DataFrame = pd.DataFrame.from_records([event.to_dict() for event in events])\n",
    "\n",
    "unique_users: pd.Series = df['client_id'].unique()\n",
    "\n",
    "print(f\"unique users {unique_users.size} from total of {len(events)} events\")\n",
    "print(f\"uniqueness: {float(unique_users.size / len(events)) * 100:.2f}% \")"
   ]
  },
  {
   "cell_type": "code",
   "execution_count": null,
   "metadata": {
    "ExecuteTime": {
     "start_time": "2023-04-18T15:28:49.645290Z",
     "end_time": "2023-04-18T15:28:49.649411Z"
    }
   },
   "outputs": [],
   "source": [
    "df_likes = pd.DataFrame.from_records([event.to_dict() for event in events\n",
    "                                      if event.event_type == EventType.LIKE])\n",
    "\n",
    "unique_likers = df_likes['client_id'].unique()\n",
    "\n",
    "print(f\"unique users {unique_likers.size} liked from total of {len(like_events)} like events\")\n",
    "print(f\"like uniqueness: {float(unique_likers.size / df_likes.shape[0]) * 100:.2f}%\")"
   ]
  },
  {
   "cell_type": "code",
   "execution_count": null,
   "metadata": {
    "ExecuteTime": {
     "start_time": "2023-04-18T15:28:49.649469Z",
     "end_time": "2023-04-18T15:28:49.832301Z"
    }
   },
   "outputs": [],
   "source": [
    "df_dislikes: pd.DataFrame = pd.DataFrame.from_records([event.to_dict() for event in dislike_events\n",
    "                                                       if event.event_type == EventType.DISLIKE])\n",
    "\n",
    "unique_dislikers = df_dislikes['client_id'].unique()\n",
    "\n",
    "print(f\"unique users {unique_dislikers.size} disliked from total of {df_dislikes.shape[0]} dislike events\")\n",
    "print(f\"dislike uniqueness: {float(unique_dislikers.size / df_dislikes.shape[0]) * 100:.2f}%\")"
   ]
  },
  {
   "cell_type": "code",
   "execution_count": null,
   "metadata": {
    "ExecuteTime": {
     "start_time": "2023-04-18T15:28:49.672687Z",
     "end_time": "2023-04-18T15:28:49.832631Z"
    }
   },
   "outputs": [],
   "source": [
    "unique_dislikers_with_counts: pd.Series = df_dislikes['client_id'].value_counts()\n",
    "OUTLIER_THRESHOLD: float = 0.05\n",
    "k = int(unique_dislikers_with_counts.size * OUTLIER_THRESHOLD)\n",
    "unique_dislikers_with_counts = unique_dislikers_with_counts[k:-k]\n",
    "\n",
    "print(\n",
    "    f\"unique users {unique_dislikers_with_counts.size} disliked from total of {df_dislikes.shape[0] - 2 * k} dislike events, best {k} and worst {k} outliers removed \")\n",
    "print(f\"dislike uniqueness: {float(unique_dislikers_with_counts.size / df_dislikes.shape[0]) * 100:.2f}%\")"
   ]
  },
  {
   "cell_type": "markdown",
   "source": [
    "### Remove togle events to see better raw likes/dislikes trends = plateau on 5 for dislikes, and on 1 for likes"
   ],
   "metadata": {
    "collapsed": false,
    "ExecuteTime": {
     "start_time": "2023-04-18T15:28:49.684294Z",
     "end_time": "2023-04-18T15:28:49.832770Z"
    }
   },
   "outputs": [],
   "execution_count": null
  },
  {
   "cell_type": "code",
   "execution_count": null,
   "outputs": [],
   "source": [
    "events = untoggled_events\n",
    "df: pd.DataFrame = pd.DataFrame.from_records([event.to_dict() for event in events])\n",
    "df_dislikes: pd.DataFrame = pd.DataFrame.from_records([event.to_dict() for event in dislike_events\n",
    "                                                       if event.event_type == EventType.DISLIKE])\n",
    "df_likes: pd.DataFrame = pd.DataFrame.from_records([event.to_dict() for event in like_events\n",
    "                                                    if event.event_type == EventType.LIKE])"
   ],
   "metadata": {
    "collapsed": false,
    "ExecuteTime": {
     "start_time": "2023-04-17T16:22:12.578683Z",
     "end_time": "2023-04-17T16:22:12.673986Z"
    }
   }
  },
  {
   "cell_type": "markdown",
   "metadata": {
    "ExecuteTime": {
     "start_time": "2023-04-18T15:28:49.729001Z",
     "end_time": "2023-04-18T15:28:49.832830Z"
    }
   },
   "source": [
    "## Dislikes by unique client ids"
   ],
   "outputs": [],
   "execution_count": null
  },
  {
   "cell_type": "code",
   "execution_count": null,
   "metadata": {
    "ExecuteTime": {
     "start_time": "2023-04-17T16:22:12.578746Z",
     "end_time": "2023-04-17T16:22:13.165399Z"
    }
   },
   "outputs": [],
   "source": [
    "unique_dislikers_with_counts: pd.Series = df_dislikes['client_id'].value_counts()\n",
    "\n",
    "f, ax = plt.subplots(figsize=(20, 6))\n",
    "# plt.tick_params(axis='x', which='both', bottom=False, top=False, labelbottom=False)\n",
    "plt.yticks(range(0, 100))\n",
    "plt.title(\"raw! Dislikes by unique sessions.\")\n",
    "plt.xlabel(\"unique session\")\n",
    "plt.ylabel('dislikes')\n",
    "plt.xticks([], [])\n",
    "plt.bar(\n",
    "    range(unique_dislikers_with_counts.size),\n",
    "    unique_dislikers_with_counts\n",
    ")\n",
    "plt.text(85, 23,\n",
    "         f\"Seřazeno sestupně dle počtu disliků.\\n\"\n",
    "         f\"V jedné session je v průměru udelěno {unique_dislikers_with_counts.mean():.1f} disliků.\",\n",
    "         color='k', weight='bold',\n",
    "         size=12, bbox=dict(boxstyle='round', facecolor='wheat', alpha=0.5)\n",
    "         )\n",
    "plt.axhline(unique_dislikers_with_counts.mean(), linewidth=.8, color='k')\n",
    "\n",
    "plt.savefig(f\"{graphs_folder}/raw_dislikes_by_unique_session.png\", bbox_inches='tight')"
   ]
  },
  {
   "cell_type": "markdown",
   "metadata": {
    "ExecuteTime": {
     "start_time": "2023-04-18T15:28:49.729070Z",
     "end_time": "2023-04-18T15:28:50.428624Z"
    }
   },
   "source": [],
   "outputs": [],
   "execution_count": null
  },
  {
   "cell_type": "markdown",
   "metadata": {},
   "source": [
    "## Dislikes by unique client ids, removing the top k outliers."
   ]
  },
  {
   "cell_type": "code",
   "execution_count": null,
   "metadata": {
    "ExecuteTime": {
     "start_time": "2023-04-17T16:22:13.166476Z",
     "end_time": "2023-04-17T16:22:13.168178Z"
    }
   },
   "outputs": [],
   "source": [
    "# unique_dislikers_with_counts: pd.Series = df_dislikes['client_id'].value_counts()\n",
    "# OUTLIER_THRESHOLD: float = 0.05\n",
    "# k = int(unique_dislikers_with_counts.size * OUTLIER_THRESHOLD)\n",
    "# unique_dislikers_with_counts = unique_dislikers_with_counts[k:-k]\n",
    "#\n",
    "# f, ax = plt.subplots(figsize=(14, 6))\n",
    "# # plt.tick_params(axis='x', which='both', bottom=False, top=False, labelbottom=False)\n",
    "# plt.yticks(range(0, 15))\n",
    "# plt.title(f\"Dislikes by unique clients (removed {k} best and {k} worst outliers)\")\n",
    "# plt.xlabel(\"unique clients (id)\")\n",
    "# plt.ylabel('dislikes')\n",
    "# plt.bar(range(unique_dislikers_with_counts.size), unique_dislikers_with_counts)\n",
    "# plt.text(36, 8.5,\n",
    "#          f\"Sorted by: user with most dislikes (descending) \\n\"\n",
    "#          f\"(removed best {k} and worst {k})\\n\\n\"\n",
    "#          f\"mean={unique_dislikers_with_counts.mean():.2f} dislikes per user\",\n",
    "#          color='k', )\n",
    "# plt.axhline(unique_dislikers_with_counts.mean(), linewidth=.6, color='k')"
   ]
  },
  {
   "cell_type": "markdown",
   "metadata": {
    "ExecuteTime": {
     "start_time": "2023-04-18T15:28:50.426476Z",
     "end_time": "2023-04-18T15:28:50.428928Z"
    }
   },
   "source": [
    "## Likes by unique client ids."
   ],
   "outputs": [],
   "execution_count": null
  },
  {
   "cell_type": "code",
   "execution_count": null,
   "metadata": {
    "ExecuteTime": {
     "start_time": "2023-04-17T16:22:13.170838Z",
     "end_time": "2023-04-17T16:22:13.635390Z"
    }
   },
   "outputs": [],
   "source": [
    "unique_likers_with_counts: pd.Series = df_likes['client_id'].value_counts()\n",
    "\n",
    "f, ax = plt.subplots(figsize=(20, 6))\n",
    "#plt.tick_params(axis='x', which='both', bottom=False, top=False, labelbottom=False)\n",
    "plt.yticks(range(0, 100))\n",
    "plt.xticks([], [])\n",
    "\n",
    "plt.bar(\n",
    "    range(unique_likers_with_counts.size),\n",
    "    unique_likers_with_counts\n",
    ")\n",
    "plt.title(\"raw! Likes by unique session\")\n",
    "plt.xlabel(\"unique session\")\n",
    "plt.ylabel('likes')\n",
    "\n",
    "plt.text(53, 7.5,\n",
    "         f\"Seřazeno sestupně dle počtu liků.\\n\"\n",
    "         f\"V jedné session je v průměru udelěno {unique_likers_with_counts.mean():.1f} liků.\",\n",
    "         color='k', weight='bold',\n",
    "         size=12, bbox=dict(boxstyle='round', facecolor='wheat', alpha=0.5)\n",
    "         )\n",
    "plt.axhline(float(unique_likers_with_counts.mean()), linewidth=.8, color='k')\n",
    "\n",
    "plt.savefig(f\"{graphs_folder}/raw_likes_by_unique_session.png\", bbox_inches='tight')\n"
   ]
  },
  {
   "cell_type": "markdown",
   "metadata": {
    "ExecuteTime": {
     "start_time": "2023-04-18T15:28:50.430804Z",
     "end_time": "2023-04-18T15:28:50.905465Z"
    }
   },
   "source": [
    "dislike"
   ],
   "outputs": [],
   "execution_count": null
  },
  {
   "cell_type": "markdown",
   "source": [
    "## List all source ticket ids with counts of dislikes that in total generated and their respective results."
   ],
   "metadata": {
    "collapsed": false
   }
  },
  {
   "cell_type": "code",
   "execution_count": null,
   "outputs": [],
   "source": [
    "# dataclasses.dataclass(slots=True):\n",
    "# class\n",
    "# TODO: add timestamp info\n",
    "\n",
    "@dataclasses.dataclass(slots=True)\n",
    "class SourceTicketDislikeInfo:\n",
    "    results: set[tuple] = dataclasses.field(default_factory=set)\n",
    "    unique_users: set[str] = dataclasses.field(default_factory=set)\n",
    "\n",
    "\n",
    "source_ticket_dislikes: dict[str, int] = df_dislikes.source_ticket_id.value_counts().to_dict()\n",
    "source_ticket_dislike_info: dict[str, SourceTicketDislikeInfo] = {source_id: SourceTicketDislikeInfo()\n",
    "                                                                  for source_id in source_ticket_dislikes.keys()}\n",
    "for source_ticket, indices in df.groupby('source_ticket_id').groups.items():\n",
    "    if not source_ticket in source_ticket_dislikes:\n",
    "        continue\n",
    "    for index in indices:\n",
    "        p = tuple(df.similar_tickets_ids[index])\n",
    "        source_ticket_dislike_info[source_ticket].results.add(p)\n",
    "        source_ticket_dislike_info[source_ticket].unique_users.add(df.client_id[index])\n",
    "\n",
    "with open('dislike_logs.txt', 'w') as f:\n",
    "    for source_id, dislikes in source_ticket_dislikes.items():\n",
    "        info: SourceTicketDislikeInfo = source_ticket_dislike_info[source_id]\n",
    "        f.write(f\"{source_id}   dislikes:{dislikes}   users:{len(info.unique_users)}:\\n\")\n",
    "        for results in info.results:\n",
    "            if len(results[0]) == 0:\n",
    "                continue\n",
    "            f.write(f\"  {results}\\n\")"
   ],
   "metadata": {
    "collapsed": false,
    "ExecuteTime": {
     "start_time": "2023-04-17T16:22:13.642181Z",
     "end_time": "2023-04-17T16:22:13.781958Z"
    }
   }
  },
  {
   "cell_type": "markdown",
   "source": [
    "# TODO: More statistics"
   ],
   "metadata": {
    "collapsed": false,
    "ExecuteTime": {
     "start_time": "2023-04-18T15:28:50.918598Z",
     "end_time": "2023-04-18T15:28:51.036052Z"
    }
   },
   "outputs": [],
   "execution_count": null
  },
  {
   "cell_type": "code",
   "execution_count": null,
   "metadata": {
    "ExecuteTime": {
     "start_time": "2023-04-17T16:22:13.748344Z",
     "end_time": "2023-04-17T16:22:14.011811Z"
    }
   },
   "outputs": [],
   "source": [
    "print(df_dislikes.source_ticket_id.value_counts())\n",
    "f, ax = plt.subplots(figsize=(10, 6))\n",
    "plt.bar(\n",
    "    range(df_dislikes.source_ticket_id.value_counts().size),\n",
    "    df_dislikes.source_ticket_id.value_counts()\n",
    ")\n",
    "plt.title('generated dislikes by unique source ticket')\n",
    "plt.xlabel('unique ticket')\n",
    "plt.ylabel('number of dislikes)')"
   ]
  },
  {
   "cell_type": "code",
   "execution_count": null,
   "outputs": [],
   "source": [
    "print(df_likes.source_ticket_id.value_counts())\n",
    "f, ax = plt.subplots(figsize=(10, 6))\n",
    "plt.bar(\n",
    "    range(df_likes.source_ticket_id.value_counts().size),\n",
    "    df_likes.source_ticket_id.value_counts()\n",
    ")\n",
    "plt.title('generated likes by unique source ticket')\n",
    "plt.xlabel('unique ticket')\n",
    "plt.ylabel('number of likes)')"
   ],
   "metadata": {
    "collapsed": false,
    "ExecuteTime": {
     "start_time": "2023-04-18T15:28:50.949625Z",
     "end_time": "2023-04-18T15:28:51.285925Z"
    }
   }
  },
  {
   "cell_type": "markdown",
   "metadata": {
    "ExecuteTime": {
     "start_time": "2023-04-18T15:28:51.288514Z",
     "end_time": "2023-04-18T15:28:51.560983Z"
    }
   },
   "source": [
    "Unique users for incident 'INC44915742"
   ],
   "outputs": [],
   "execution_count": null
  },
  {
   "cell_type": "code",
   "execution_count": null,
   "metadata": {
    "ExecuteTime": {
     "start_time": "2023-04-17T16:22:14.240679Z",
     "end_time": "2023-04-17T16:22:14.369493Z"
    }
   },
   "outputs": [],
   "source": [
    "pprint(\n",
    "    set(\n",
    "        [event.client_id for event in events\n",
    "         if event.event_type == EventType.DISLIKE and event.source_ticket_id == 'INC50162183']  # INC44915742\n",
    "    )\n",
    ")"
   ]
  },
  {
   "cell_type": "code",
   "execution_count": null,
   "metadata": {
    "ExecuteTime": {
     "start_time": "2023-04-17T16:22:14.282806Z",
     "end_time": "2023-04-17T16:22:14.394089Z"
    }
   },
   "outputs": [],
   "source": [
    "df_INC50643483: pd.DataFrame = pd.DataFrame.from_records(\n",
    "    [event.to_dict() for event in events\n",
    "     if event.event_type == EventType.LIKE and event.source_ticket_id == 'INC50643483']\n",
    ")\n",
    "unique_users: pd.Series = df_INC50643483['client_id'].value_counts()\n",
    "\n",
    "plt.bar(range(unique_users.size), unique_users, tick_label=['user' + str(i) for i in range(1, unique_users.size + 1)])"
   ]
  },
  {
   "cell_type": "markdown",
   "metadata": {},
   "source": [
    "plot likes that changed to dislike\n"
   ],
   "outputs": []
  },
  {
   "cell_type": "markdown",
   "metadata": {},
   "source": [
    "plot dislikes that changed to likes"
   ]
  }
 ],
 "metadata": {
  "kernelspec": {
   "display_name": "Python 3 (ipykernel)",
   "language": "python",
   "name": "python3"
  },
  "language_info": {
   "codemirror_mode": {
    "name": "ipython",
    "version": 3
   },
   "file_extension": ".py",
   "mimetype": "text/x-python",
   "name": "python",
   "nbconvert_exporter": "python",
   "pygments_lexer": "ipython3",
   "version": "3.11.2"
  }
 },
 "nbformat": 4,
 "nbformat_minor": 1
}
